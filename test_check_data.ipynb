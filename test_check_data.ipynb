{
 "cells": [
  {
   "cell_type": "code",
   "execution_count": 3,
   "metadata": {},
   "outputs": [],
   "source": [
    "import torch\n",
    "import os\n",
    "import pickle\n",
    "\n",
    "data_path = '/Users/noelkj/Documents/GitHub/AI612-project2/train/testdata/'"
   ]
  },
  {
   "cell_type": "code",
   "execution_count": 10,
   "metadata": {},
   "outputs": [
    {
     "name": "stdout",
     "output_type": "stream",
     "text": [
      "Features shape: torch.Size([12800])\n",
      "Labels shape: 28\n",
      "[0, 1, 1, 0, 1, 1, 1, 0, 1, 1, 0, 0, 1, 0, 1, 1, 1, 0, 1, 0, 2, 0, 5, 0, 2, 4, 2, 2]\n"
     ]
    }
   ],
   "source": [
    "# Load features and labels\n",
    "features = torch.load(os.path.join(data_path, 'features.pkl'))\n",
    "labels = torch.load(os.path.join(data_path, 'labels.pkl'))\n",
    "\n",
    "# Print the shapes of the features and labels\n",
    "print(f\"Features shape: {features[0].shape}\")\n",
    "print(f\"Labels shape: {len(labels[0])}\")\n",
    "print(labels[0])\n"
   ]
  }
 ],
 "metadata": {
  "kernelspec": {
   "display_name": "ai",
   "language": "python",
   "name": "python3"
  },
  "language_info": {
   "codemirror_mode": {
    "name": "ipython",
    "version": 3
   },
   "file_extension": ".py",
   "mimetype": "text/x-python",
   "name": "python",
   "nbconvert_exporter": "python",
   "pygments_lexer": "ipython3",
   "version": "3.10.10"
  },
  "orig_nbformat": 4
 },
 "nbformat": 4,
 "nbformat_minor": 2
}
