{
 "cells": [
  {
   "cell_type": "code",
   "execution_count": 1,
   "metadata": {},
   "outputs": [
    {
     "name": "stderr",
     "output_type": "stream",
     "text": [
      "/Users/noelkj/miniconda3/envs/ai/lib/python3.10/site-packages/tqdm/auto.py:21: TqdmWarning: IProgress not found. Please update jupyter and ipywidgets. See https://ipywidgets.readthedocs.io/en/stable/user_install.html\n",
      "  from .autonotebook import tqdm as notebook_tqdm\n"
     ]
    }
   ],
   "source": [
    "import pandas as pd\n",
    "import numpy as np\n",
    "from pyhealth.datasets import eICUDataset\n",
    "\n",
    "# Path: preprocess/preprocessing.ipynb\n",
    "dataset_path = \"../train/eicu/\"\n",
    "output_path = \"../preData/\""
   ]
  },
  {
   "cell_type": "code",
   "execution_count": 2,
   "metadata": {},
   "outputs": [],
   "source": [
    "# load patient data\n",
    "df = pd.read_csv(dataset_path + \"patient.csv\")\n",
    "df_new = pd.DataFrame()\n",
    "df_new['hospitalid'] = df['hospitalid'].unique()\n",
    "df_new['region'] = pd.Series(dtype='int')\n",
    "df_new.head()\n",
    "# Save \n",
    "df_new.to_csv(dataset_path + \"hospital.csv\", index=False)"
   ]
  },
  {
   "cell_type": "code",
   "execution_count": 3,
   "metadata": {},
   "outputs": [],
   "source": [
    "eicu_base = eICUDataset(\n",
    "    root=dataset_path,\n",
    "    tables = ['treatment', 'medication', 'lab'],\n",
    ")"
   ]
  },
  {
   "cell_type": "code",
   "execution_count": 8,
   "metadata": {},
   "outputs": [
    {
     "name": "stdout",
     "output_type": "stream",
     "text": [
      "\n",
      "Statistics of base dataset (dev=False):\n",
      "\t- Dataset: eICUDataset\n",
      "\t- Number of patients: 101851\n",
      "\t- Number of visits: 101851\n",
      "\t- Number of visits per patient: 1.0000\n",
      "\t- Number of events per visit in treatment: 6.3922\n",
      "\t- Number of events per visit in medication: 7.7206\n",
      "\t- Number of events per visit in lab: 34.6887\n",
      "\n"
     ]
    },
    {
     "name": "stderr",
     "output_type": "stream",
     "text": [
      "Generating samples for mortality_prediction_eicu_fn: 100%|██████████| 101851/101851 [00:00<00:00, 1065776.32it/s]\n"
     ]
    },
    {
     "ename": "IndexError",
     "evalue": "list index out of range",
     "output_type": "error",
     "traceback": [
      "\u001b[0;31m---------------------------------------------------------------------------\u001b[0m",
      "\u001b[0;31mIndexError\u001b[0m                                Traceback (most recent call last)",
      "Cell \u001b[0;32mIn[8], line 6\u001b[0m\n\u001b[1;32m      2\u001b[0m \u001b[39mfrom\u001b[39;00m \u001b[39mpyhealth\u001b[39;00m\u001b[39m.\u001b[39;00m\u001b[39mdatasets\u001b[39;00m \u001b[39mimport\u001b[39;00m split_by_patient, get_dataloader\n\u001b[1;32m      4\u001b[0m eicu_base\u001b[39m.\u001b[39mstat()    \n\u001b[0;32m----> 6\u001b[0m eicusample \u001b[39m=\u001b[39m eicu_base\u001b[39m.\u001b[39;49mset_task(task_fn\u001b[39m=\u001b[39;49mmortality_prediction_eicu_fn)\n\u001b[1;32m      8\u001b[0m train_ds, val_ds, test_ds \u001b[39m=\u001b[39m split_by_patient(eicusample, \u001b[39m0.8\u001b[39m, \u001b[39m0.1\u001b[39m, \u001b[39m0.1\u001b[39m)\n\u001b[1;32m      9\u001b[0m train_loader \u001b[39m=\u001b[39m get_dataloader(train_ds, batch_size\u001b[39m=\u001b[39m\u001b[39m32\u001b[39m, shuffle\u001b[39m=\u001b[39m\u001b[39mTrue\u001b[39;00m)\n",
      "File \u001b[0;32m~/miniconda3/envs/ai/lib/python3.10/site-packages/pyhealth/datasets/base_dataset.py:360\u001b[0m, in \u001b[0;36mBaseDataset.set_task\u001b[0;34m(self, task_fn, task_name)\u001b[0m\n\u001b[1;32m    356\u001b[0m \u001b[39mfor\u001b[39;00m patient_id, patient \u001b[39min\u001b[39;00m tqdm(\n\u001b[1;32m    357\u001b[0m     \u001b[39mself\u001b[39m\u001b[39m.\u001b[39mpatients\u001b[39m.\u001b[39mitems(), desc\u001b[39m=\u001b[39m\u001b[39mf\u001b[39m\u001b[39m\"\u001b[39m\u001b[39mGenerating samples for \u001b[39m\u001b[39m{\u001b[39;00mtask_name\u001b[39m}\u001b[39;00m\u001b[39m\"\u001b[39m\n\u001b[1;32m    358\u001b[0m ):\n\u001b[1;32m    359\u001b[0m     samples\u001b[39m.\u001b[39mextend(task_fn(patient))\n\u001b[0;32m--> 360\u001b[0m sample_dataset \u001b[39m=\u001b[39m SampleDataset(\n\u001b[1;32m    361\u001b[0m     samples,\n\u001b[1;32m    362\u001b[0m     dataset_name\u001b[39m=\u001b[39;49m\u001b[39mself\u001b[39;49m\u001b[39m.\u001b[39;49mdataset_name,\n\u001b[1;32m    363\u001b[0m     task_name\u001b[39m=\u001b[39;49mtask_name,\n\u001b[1;32m    364\u001b[0m )\n\u001b[1;32m    365\u001b[0m \u001b[39mreturn\u001b[39;00m sample_dataset\n",
      "File \u001b[0;32m~/miniconda3/envs/ai/lib/python3.10/site-packages/pyhealth/datasets/sample_dataset.py:90\u001b[0m, in \u001b[0;36mSampleDataset.__init__\u001b[0;34m(self, samples, dataset_name, task_name)\u001b[0m\n\u001b[1;32m     88\u001b[0m \u001b[39mself\u001b[39m\u001b[39m.\u001b[39mdataset_name: \u001b[39mstr\u001b[39m \u001b[39m=\u001b[39m dataset_name\n\u001b[1;32m     89\u001b[0m \u001b[39mself\u001b[39m\u001b[39m.\u001b[39mtask_name: \u001b[39mstr\u001b[39m \u001b[39m=\u001b[39m task_name\n\u001b[0;32m---> 90\u001b[0m \u001b[39mself\u001b[39m\u001b[39m.\u001b[39minput_info: Dict \u001b[39m=\u001b[39m \u001b[39mself\u001b[39;49m\u001b[39m.\u001b[39;49m_validate()\n\u001b[1;32m     91\u001b[0m \u001b[39mself\u001b[39m\u001b[39m.\u001b[39mpatient_to_index: Dict[\u001b[39mstr\u001b[39m, List[\u001b[39mint\u001b[39m]] \u001b[39m=\u001b[39m \u001b[39mself\u001b[39m\u001b[39m.\u001b[39m_index_patient()\n\u001b[1;32m     92\u001b[0m \u001b[39mself\u001b[39m\u001b[39m.\u001b[39mvisit_to_index: Dict[\u001b[39mstr\u001b[39m, List[\u001b[39mint\u001b[39m]] \u001b[39m=\u001b[39m \u001b[39mself\u001b[39m\u001b[39m.\u001b[39m_index_visit()\n",
      "File \u001b[0;32m~/miniconda3/envs/ai/lib/python3.10/site-packages/pyhealth/datasets/sample_dataset.py:112\u001b[0m, in \u001b[0;36mSampleDataset._validate\u001b[0;34m(self)\u001b[0m\n\u001b[1;32m    108\u001b[0m \u001b[39m\u001b[39m\u001b[39m\"\"\" 1. Check if all samples are of type dict. \"\"\"\u001b[39;00m\n\u001b[1;32m    109\u001b[0m \u001b[39massert\u001b[39;00m \u001b[39mall\u001b[39m(\n\u001b[1;32m    110\u001b[0m     [\u001b[39misinstance\u001b[39m(s, \u001b[39mdict\u001b[39m) \u001b[39mfor\u001b[39;00m s \u001b[39min\u001b[39;00m \u001b[39mself\u001b[39m\u001b[39m.\u001b[39msamples],\n\u001b[1;32m    111\u001b[0m ), \u001b[39m\"\u001b[39m\u001b[39mEach sample should be a dict\u001b[39m\u001b[39m\"\u001b[39m\n\u001b[0;32m--> 112\u001b[0m keys \u001b[39m=\u001b[39m \u001b[39mself\u001b[39;49m\u001b[39m.\u001b[39;49msamples[\u001b[39m0\u001b[39;49m]\u001b[39m.\u001b[39mkeys()\n\u001b[1;32m    114\u001b[0m \u001b[39m\u001b[39m\u001b[39m\"\"\" 2. Check if all samples have the same keys. \"\"\"\u001b[39;00m\n\u001b[1;32m    115\u001b[0m \u001b[39massert\u001b[39;00m \u001b[39mall\u001b[39m(\n\u001b[1;32m    116\u001b[0m     [\u001b[39mset\u001b[39m(s\u001b[39m.\u001b[39mkeys()) \u001b[39m==\u001b[39m \u001b[39mset\u001b[39m(keys) \u001b[39mfor\u001b[39;00m s \u001b[39min\u001b[39;00m \u001b[39mself\u001b[39m\u001b[39m.\u001b[39msamples]\n\u001b[1;32m    117\u001b[0m ), \u001b[39m\"\u001b[39m\u001b[39mAll samples should have the same keys\u001b[39m\u001b[39m\"\u001b[39m\n",
      "\u001b[0;31mIndexError\u001b[0m: list index out of range"
     ]
    }
   ],
   "source": [
    "from pyhealth.tasks import mortality_prediction_eicu_fn\n",
    "from pyhealth.datasets import split_by_patient, get_dataloader\n",
    "\n",
    "eicu_base.stat()    \n",
    "\n",
    "eicusample = eicu_base.set_task(task_fn=mortality_prediction_eicu_fn)\n",
    "\n",
    "train_ds, val_ds, test_ds = split_by_patient(eicusample, 0.8, 0.1, 0.1)\n",
    "train_loader = get_dataloader(train_ds, batch_size=32, shuffle=True)\n",
    "val_loader = get_dataloader(val_ds, batch_size=32, shuffle=False)\n",
    "test_loader = get_dataloader(test_ds, batch_size=32, shuffle=False)\n"
   ]
  },
  {
   "cell_type": "code",
   "execution_count": null,
   "metadata": {},
   "outputs": [],
   "source": [
    "from pyhealth.models import Transformer\n",
    "\n",
    "model = Transformer(\n",
    "    dataset=eicusample,\n",
    "    feature_keys=[\"lab\", \"medication\", \"treatment\"],\n",
    "    label_key=\"label\",\n",
    "    mode=\"binary\",\n",
    ")\n",
    "\n",
    "from pyhealth.trainer import Trainer\n",
    "\n",
    "trainer = Trainer(model=model)\n",
    "trainer.train(\n",
    "    train_dataloader=train_loader,\n",
    "    val_dataloader=val_loader,\n",
    "    epochs=50,\n",
    "    monitor=\"pr_auc_samples\",\n",
    ")\n",
    "\n"
   ]
  }
 ],
 "metadata": {
  "kernelspec": {
   "display_name": "hc",
   "language": "python",
   "name": "python3"
  },
  "language_info": {
   "codemirror_mode": {
    "name": "ipython",
    "version": 3
   },
   "file_extension": ".py",
   "mimetype": "text/x-python",
   "name": "python",
   "nbconvert_exporter": "python",
   "pygments_lexer": "ipython3",
   "version": "3.10.10"
  },
  "orig_nbformat": 4
 },
 "nbformat": 4,
 "nbformat_minor": 2
}
