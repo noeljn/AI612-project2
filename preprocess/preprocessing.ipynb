{
 "cells": [
  {
   "cell_type": "code",
   "execution_count": 3,
   "metadata": {},
   "outputs": [],
   "source": [
    "import pandas as pd\n",
    "from datetime import datetime, timedelta\n",
    "import numpy as np\n",
    "\n",
    "# Path: preprocess/preprocessing.ipynb\n",
    "dataset_path = \"../train/eicu/\"\n",
    "output_path = \"../preData/\""
   ]
  },
  {
   "cell_type": "code",
   "execution_count": 4,
   "metadata": {},
   "outputs": [
    {
     "data": {
      "text/html": [
       "<div>\n",
       "<style scoped>\n",
       "    .dataframe tbody tr th:only-of-type {\n",
       "        vertical-align: middle;\n",
       "    }\n",
       "\n",
       "    .dataframe tbody tr th {\n",
       "        vertical-align: top;\n",
       "    }\n",
       "\n",
       "    .dataframe thead th {\n",
       "        text-align: right;\n",
       "    }\n",
       "</style>\n",
       "<table border=\"1\" class=\"dataframe\">\n",
       "  <thead>\n",
       "    <tr style=\"text-align: right;\">\n",
       "      <th></th>\n",
       "      <th>patientunitstayid</th>\n",
       "      <th>patienthealthsystemstayid</th>\n",
       "      <th>intakeoutput.csv</th>\n",
       "      <th>microLab.csv</th>\n",
       "      <th>nurseassessment.csv</th>\n",
       "      <th>treatment.csv</th>\n",
       "      <th>vitalperiodic.csv</th>\n",
       "      <th>vitalaperiodic.csv</th>\n",
       "    </tr>\n",
       "  </thead>\n",
       "  <tbody>\n",
       "    <tr>\n",
       "      <th>0</th>\n",
       "      <td>3078217</td>\n",
       "      <td>2109336</td>\n",
       "      <td>11342217:546:500.0:0.0:0.0:500.0:546:flowsheet...</td>\n",
       "      <td>NaN</td>\n",
       "      <td>NaN</td>\n",
       "      <td>32003493:40:pulmonary|ventilation and oxygenat...</td>\n",
       "      <td>673657835.0:251.0:37.0:94.0:76.0:28.0:nan:nan:...</td>\n",
       "      <td>187643215.0:204.0:113.0:54.0:68.0:nan:nan:nan:...</td>\n",
       "    </tr>\n",
       "    <tr>\n",
       "      <th>1</th>\n",
       "      <td>3051024</td>\n",
       "      <td>2067631</td>\n",
       "      <td>9597277:462:500.0:225.0:0.0:275.0:462:flowshee...</td>\n",
       "      <td>NaN</td>\n",
       "      <td>NaN</td>\n",
       "      <td>NaN</td>\n",
       "      <td>NaN</td>\n",
       "      <td>NaN</td>\n",
       "    </tr>\n",
       "    <tr>\n",
       "      <th>2</th>\n",
       "      <td>3101130</td>\n",
       "      <td>2102152</td>\n",
       "      <td>11340044:300:200.0:200.0:0.0:0.0:300:flowsheet...</td>\n",
       "      <td>NaN</td>\n",
       "      <td>NaN</td>\n",
       "      <td>NaN</td>\n",
       "      <td>34152086.0:157.0:nan:99.0:152.0:nan:nan:nan:na...</td>\n",
       "      <td>7183921.0:449.0:104.0:55.0:75.0:nan:nan:nan:na...</td>\n",
       "    </tr>\n",
       "    <tr>\n",
       "      <th>3</th>\n",
       "      <td>3017690</td>\n",
       "      <td>2053166</td>\n",
       "      <td>NaN</td>\n",
       "      <td>NaN</td>\n",
       "      <td>NaN</td>\n",
       "      <td>NaN</td>\n",
       "      <td>NaN</td>\n",
       "      <td>NaN</td>\n",
       "    </tr>\n",
       "    <tr>\n",
       "      <th>4</th>\n",
       "      <td>3101832</td>\n",
       "      <td>2020759</td>\n",
       "      <td>16344202:477:666.0:600.0:0.0:66.0:477:flowshee...</td>\n",
       "      <td>NaN</td>\n",
       "      <td>NaN</td>\n",
       "      <td>23986556:17:cardiovascular|shock|vasopressors|...</td>\n",
       "      <td>478446260.0:12.0:nan:98.0:71.0:28.0:nan:nan:na...</td>\n",
       "      <td>152863511.0:332.0:104.0:65.0:74.0:nan:nan:nan:...</td>\n",
       "    </tr>\n",
       "  </tbody>\n",
       "</table>\n",
       "</div>"
      ],
      "text/plain": [
       "   patientunitstayid  patienthealthsystemstayid  \\\n",
       "0            3078217                    2109336   \n",
       "1            3051024                    2067631   \n",
       "2            3101130                    2102152   \n",
       "3            3017690                    2053166   \n",
       "4            3101832                    2020759   \n",
       "\n",
       "                                    intakeoutput.csv microLab.csv  \\\n",
       "0  11342217:546:500.0:0.0:0.0:500.0:546:flowsheet...          NaN   \n",
       "1  9597277:462:500.0:225.0:0.0:275.0:462:flowshee...          NaN   \n",
       "2  11340044:300:200.0:200.0:0.0:0.0:300:flowsheet...          NaN   \n",
       "3                                                NaN          NaN   \n",
       "4  16344202:477:666.0:600.0:0.0:66.0:477:flowshee...          NaN   \n",
       "\n",
       "  nurseassessment.csv                                      treatment.csv  \\\n",
       "0                 NaN  32003493:40:pulmonary|ventilation and oxygenat...   \n",
       "1                 NaN                                                NaN   \n",
       "2                 NaN                                                NaN   \n",
       "3                 NaN                                                NaN   \n",
       "4                 NaN  23986556:17:cardiovascular|shock|vasopressors|...   \n",
       "\n",
       "                                   vitalperiodic.csv  \\\n",
       "0  673657835.0:251.0:37.0:94.0:76.0:28.0:nan:nan:...   \n",
       "1                                                NaN   \n",
       "2  34152086.0:157.0:nan:99.0:152.0:nan:nan:nan:na...   \n",
       "3                                                NaN   \n",
       "4  478446260.0:12.0:nan:98.0:71.0:28.0:nan:nan:na...   \n",
       "\n",
       "                                  vitalaperiodic.csv  \n",
       "0  187643215.0:204.0:113.0:54.0:68.0:nan:nan:nan:...  \n",
       "1                                                NaN  \n",
       "2  7183921.0:449.0:104.0:55.0:75.0:nan:nan:nan:na...  \n",
       "3                                                NaN  \n",
       "4  152863511.0:332.0:104.0:65.0:74.0:nan:nan:nan:...  "
      ]
     },
     "execution_count": 4,
     "metadata": {},
     "output_type": "execute_result"
    }
   ],
   "source": [
    "# Read in the data\n",
    "patient = pd.read_csv(output_path + \"patient.csv\")\n",
    "\n",
    "#print first 5 rows\n",
    "patient.head()"
   ]
  },
  {
   "cell_type": "code",
   "execution_count": 4,
   "metadata": {},
   "outputs": [],
   "source": [
    "def group_cvs(csv_filename):\n",
    "    # Append intakeoutput to patient\n",
    "    file = pd.read_csv(dataset_path + csv_filename)\n",
    "    # Group by patientunitstayid\n",
    "    file = file.groupby('patientunitstayid')\n",
    "    \n",
    "    # Check if any group has size > 1\n",
    "    check = False\n",
    "    for name, group in file:\n",
    "        if len(group) > 1:\n",
    "            check = True\n",
    "            break\n",
    "    if not check:\n",
    "        return file, check\n",
    "    #print first group\n",
    "    file_dataframe = {}\n",
    "    for name, group in file:\n",
    "        data = \"\"\n",
    "        for index, row in group.iterrows():\n",
    "            # concat all data with : as delimiter\n",
    "            s = \"\"\n",
    "            for head, x in row.items():\n",
    "                if head != \"patientunitstayid\":\n",
    "                    s += str(x) + \":\"\n",
    "            data = data + s + \"-\"\n",
    "        file_dataframe[name] = data\n",
    "    return file_dataframe, check\n",
    "#data = group_cvs(\"intakeoutput.csv\")    \n",
    "#print(data[3009068])"
   ]
  },
  {
   "cell_type": "code",
   "execution_count": 6,
   "metadata": {},
   "outputs": [
    {
     "name": "stdout",
     "output_type": "stream",
     "text": [
      "Processing lab.csv\n",
      "Processing medication.csv\n"
     ]
    },
    {
     "name": "stderr",
     "output_type": "stream",
     "text": [
      "/var/folders/pb/0ltrmd7x4dg5j794jr3tqh1h0000gn/T/ipykernel_76682/2648625176.py:3: DtypeWarning: Columns (11) have mixed types. Specify dtype option on import or set low_memory=False.\n",
      "  file = pd.read_csv(dataset_path + csv_filename)\n"
     ]
    },
    {
     "name": "stdout",
     "output_type": "stream",
     "text": [
      "Processing infusiondrug.csv\n"
     ]
    },
    {
     "name": "stderr",
     "output_type": "stream",
     "text": [
      "/var/folders/pb/0ltrmd7x4dg5j794jr3tqh1h0000gn/T/ipykernel_76682/2648625176.py:3: DtypeWarning: Columns (4) have mixed types. Specify dtype option on import or set low_memory=False.\n",
      "  file = pd.read_csv(dataset_path + csv_filename)\n"
     ]
    },
    {
     "name": "stdout",
     "output_type": "stream",
     "text": [
      "Processing nursecare.csv\n",
      "Processing nursecharting.csv\n"
     ]
    }
   ],
   "source": [
    "# csv files to be processed\n",
    "files = ['intakeoutput.csv', 'microLab.csv', 'nurseassessment.csv', 'treatment.csv', 'vitalperiodic.csv', 'vitalaperiodic.csv']\n",
    "files_2 = ['lab.csv', 'medication.csv', 'infusiondrug.csv', 'nursecare.csv', 'nursecharting.csv']\n",
    "\n",
    "# Process all csv files and merge with patient on patientunitstayid\n",
    "for file in files_2:\n",
    "    print(\"Processing \" + file)\n",
    "    data, check = group_cvs(file)\n",
    "    if check:\n",
    "        patient[file] = patient['patientunitstayid'].map(data)\n",
    "    else:\n",
    "        patient = patient.merge(data, on='patientunitstayid', how='left')\n",
    "\n",
    "# Save to csv\n",
    "patient.to_csv(output_path + \"patient_2.csv\", index=False)"
   ]
  },
  {
   "cell_type": "code",
   "execution_count": 1,
   "metadata": {},
   "outputs": [
    {
     "ename": "NameError",
     "evalue": "name 'patient' is not defined",
     "output_type": "error",
     "traceback": [
      "\u001b[0;31m---------------------------------------------------------------------------\u001b[0m",
      "\u001b[0;31mNameError\u001b[0m                                 Traceback (most recent call last)",
      "Cell \u001b[0;32mIn[1], line 1\u001b[0m\n\u001b[0;32m----> 1\u001b[0m patient\u001b[39m.\u001b[39mhead()\n",
      "\u001b[0;31mNameError\u001b[0m: name 'patient' is not defined"
     ]
    }
   ],
   "source": [
    "patient.head()"
   ]
  }
 ],
 "metadata": {
  "kernelspec": {
   "display_name": "hc",
   "language": "python",
   "name": "python3"
  },
  "language_info": {
   "codemirror_mode": {
    "name": "ipython",
    "version": 3
   },
   "file_extension": ".py",
   "mimetype": "text/x-python",
   "name": "python",
   "nbconvert_exporter": "python",
   "pygments_lexer": "ipython3",
   "version": "3.8.10"
  },
  "orig_nbformat": 4
 },
 "nbformat": 4,
 "nbformat_minor": 2
}
